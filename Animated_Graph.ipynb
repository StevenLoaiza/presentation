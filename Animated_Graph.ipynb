{
 "cells": [
  {
   "cell_type": "markdown",
   "metadata": {},
   "source": [
    "# Python Simulation Graph for forecasts\n",
    "\n",
    "Do you ever contemplate what is the best way to present a models performance? Should I talk about R-Square, RMSE, Accuracy, or just tell my manager that I placed it into a black box and it works well. \n",
    "\n",
    "Below I will show you how to create the animate graph."
   ]
  },
  {
   "cell_type": "markdown",
   "metadata": {},
   "source": [
    "## My Experience\n",
    "\n",
    "I had a project where I was tasked to forecast the frequency of a metric. My management team wanted an automated program that would run every month to give us insight as to the frequency a year in advance.\n",
    "\n",
    "Once I developed the forecasting model, I had to validate how well the model would perform if we ran it every month for a year. Essentially, I simulated the use of the model. I wanted to present this as an animated graph that would show the date the model was run and its result against the actuals."
   ]
  },
  {
   "cell_type": "markdown",
   "metadata": {},
   "source": [
    "#### libraries"
   ]
  },
  {
   "cell_type": "code",
   "execution_count": 18,
   "metadata": {},
   "outputs": [],
   "source": [
    "#import\n",
    "import numpy as np\n",
    "import matplotlib.pyplot as plt\n",
    "from mpl_toolkits.mplot3d import Axes3D\n",
    "from pandas.plotting import register_matplotlib_converters\n",
    "from matplotlib.animation import FuncAnimation\n",
    "import pandas as pd\n",
    "import matplotlib.dates as mdates\n",
    "import os"
   ]
  },
  {
   "cell_type": "markdown",
   "metadata": {},
   "source": [
    "#### Data\n",
    "\n",
    "Let us create a dataset to use in our graph. There are four columns, the date the forecast was run, the date it was predicting, the actual value and the predicted value."
   ]
  },
  {
   "cell_type": "code",
   "execution_count": 16,
   "metadata": {},
   "outputs": [
    {
     "data": {
      "text/html": [
       "<div>\n",
       "<style scoped>\n",
       "    .dataframe tbody tr th:only-of-type {\n",
       "        vertical-align: middle;\n",
       "    }\n",
       "\n",
       "    .dataframe tbody tr th {\n",
       "        vertical-align: top;\n",
       "    }\n",
       "\n",
       "    .dataframe thead th {\n",
       "        text-align: right;\n",
       "    }\n",
       "</style>\n",
       "<table border=\"1\" class=\"dataframe\">\n",
       "  <thead>\n",
       "    <tr style=\"text-align: right;\">\n",
       "      <th></th>\n",
       "      <th>prediction_date</th>\n",
       "      <th>Forecast Date</th>\n",
       "      <th>Val</th>\n",
       "      <th>Pred_Val</th>\n",
       "    </tr>\n",
       "  </thead>\n",
       "  <tbody>\n",
       "    <tr>\n",
       "      <th>0</th>\n",
       "      <td>2015-02-28</td>\n",
       "      <td>2013-02-28</td>\n",
       "      <td>1.302723</td>\n",
       "      <td>-0.051338</td>\n",
       "    </tr>\n",
       "    <tr>\n",
       "      <th>1</th>\n",
       "      <td>2015-03-31</td>\n",
       "      <td>2013-03-31</td>\n",
       "      <td>0.677438</td>\n",
       "      <td>-2.960989</td>\n",
       "    </tr>\n",
       "    <tr>\n",
       "      <th>2</th>\n",
       "      <td>2015-04-30</td>\n",
       "      <td>2013-04-30</td>\n",
       "      <td>-0.521076</td>\n",
       "      <td>1.211435</td>\n",
       "    </tr>\n",
       "    <tr>\n",
       "      <th>3</th>\n",
       "      <td>2015-05-31</td>\n",
       "      <td>2013-05-31</td>\n",
       "      <td>-0.065177</td>\n",
       "      <td>1.435152</td>\n",
       "    </tr>\n",
       "    <tr>\n",
       "      <th>4</th>\n",
       "      <td>2015-06-30</td>\n",
       "      <td>2013-06-30</td>\n",
       "      <td>0.474794</td>\n",
       "      <td>1.507588</td>\n",
       "    </tr>\n",
       "  </tbody>\n",
       "</table>\n",
       "</div>"
      ],
      "text/plain": [
       "  prediction_date Forecast Date       Val  Pred_Val\n",
       "0      2015-02-28    2013-02-28  1.302723 -0.051338\n",
       "1      2015-03-31    2013-03-31  0.677438 -2.960989\n",
       "2      2015-04-30    2013-04-30 -0.521076  1.211435\n",
       "3      2015-05-31    2013-05-31 -0.065177  1.435152\n",
       "4      2015-06-30    2013-06-30  0.474794  1.507588"
      ]
     },
     "execution_count": 16,
     "metadata": {},
     "output_type": "execute_result"
    }
   ],
   "source": [
    "# create an array of 5 dates starting at '2015-02-24', one per day\n",
    "prediction_date = pd.date_range('2015-02-01', periods=24, freq='M')\n",
    "forecast_run = pd.date_range('2013-02-01', periods=24, freq='M')\n",
    "df = pd.DataFrame({ 'prediction_date': prediction_date,'Forecast Date': forecast_run, 'Val' : np.random.randn(len(prediction_date)),'Pred_Val' : np.random.randn(len(forecast_run))}) \n",
    "\n",
    "# print\n",
    "df.head()"
   ]
  },
  {
   "cell_type": "markdown",
   "metadata": {},
   "source": [
    "#### Animated Graph\n",
    "\n",
    "Let start with some basics for the graph. We will need first create the plot and then add the boundaries of the x-axis and y-axis. Because we are using a date format 'yyyy-mm-dd' we will have the x-axis show large tick marks for the year and small tick marks for the months."
   ]
  },
  {
   "cell_type": "code",
   "execution_count": null,
   "metadata": {},
   "outputs": [],
   "source": [
    "#formats\n",
    "years = mdates.YearLocator()   # every year\n",
    "months = mdates.MonthLocator()  # every month\n",
    "years_fmt = mdates.DateFormatter('%Y')\n",
    "plt.style.use('seaborn-pastel')\n",
    "\n",
    "#create the figure\n",
    "fig = plt.figure() \n",
    "\n",
    "#figure size\n",
    "plt.rcParams[\"figure.figsize\"] = (20,10)\n",
    "\n",
    "# round to nearest years.\n",
    "datemin = np.datetime64(df['prediction_date'][0], 'Y')\n",
    "datemax = np.datetime64(df['prediction_date'].iloc[-1], 'Y') + np.timedelta64(1, 'Y')\n",
    "\n",
    "# setting a title for the plot \n",
    "plt.title('My animated forecasting graph',fontsize=18) \n",
    "\n",
    "#create axis limits\n",
    "ax = plt.axes(xlim=(datemin, datemax), ylim=(-5, 5)) \n",
    "\n",
    "# format the ticks\n",
    "ax.xaxis.set_major_locator(years)\n",
    "ax.xaxis.set_major_formatter(years_fmt)\n",
    "ax.xaxis.set_minor_locator(months)"
   ]
  },
  {
   "cell_type": "markdown",
   "metadata": {},
   "source": [
    "Next we will initiate the lines that we are going to graph. "
   ]
  },
  {
   "cell_type": "code",
   "execution_count": null,
   "metadata": {},
   "outputs": [],
   "source": [
    "# Create empty lines we are going to plot as part of the animation\n",
    "line, = ax.plot([], [], 'o',label='predicted values') \n",
    "# Static line that will appear on the graph\n",
    "line2, = ax.plot(df['prediction_date'],df['Val'],color='grey',linestyle='dashed',label= 'Actual Values')\n",
    "\n",
    "\n",
    "# initialization function \n",
    "def init(): \n",
    "\t# creating an empty plot/frame \n",
    "\tline.set_data([], []) \n",
    "\treturn line, \n",
    "\n",
    "# lists to store x and y axis points \n",
    "xdata, ydata = [], [] "
   ]
  },
  {
   "cell_type": "code",
   "execution_count": 46,
   "metadata": {},
   "outputs": [
    {
     "name": "stderr",
     "output_type": "stream",
     "text": [
      "MovieWriter ffmpeg unavailable; trying to use <class 'matplotlib.animation.PillowWriter'> instead.\n"
     ]
    },
    {
     "data": {
      "image/png": "[encoded data removed]",
      "text/plain": [
       "<Figure size 1440x720 with 1 Axes>"
      ]
     },
     "metadata": {
      "needs_background": "light"
     },
     "output_type": "display_data"
    }
   ],
   "source": [
    "#formats\n",
    "years = mdates.YearLocator()   # every year\n",
    "months = mdates.MonthLocator()  # every month\n",
    "years_fmt = mdates.DateFormatter('%Y')\n",
    "plt.style.use('seaborn-pastel')\n",
    "\n",
    "#create the figure\n",
    "fig = plt.figure() \n",
    "\n",
    "#figure size\n",
    "plt.rcParams[\"figure.figsize\"] = (20,10)\n",
    "\n",
    "# round to nearest years.\n",
    "datemin = np.datetime64(df['prediction_date'][0], 'Y')\n",
    "datemax = np.datetime64(df['prediction_date'].iloc[-1], 'Y') + np.timedelta64(1, 'Y')\n",
    "\n",
    "# setting a title for the plot \n",
    "plt.title('My animated forecasting graph',fontsize=18) \n",
    "\n",
    "#create axis limits\n",
    "ax = plt.axes(xlim=(datemin, datemax), ylim=(-5, 5)) \n",
    "\n",
    "# format the ticks\n",
    "ax.xaxis.set_major_locator(years)\n",
    "ax.xaxis.set_major_formatter(years_fmt)\n",
    "ax.xaxis.set_minor_locator(months)\n",
    "\n",
    "# Create empty lines we are going to plot as part of the animation\n",
    "line, = ax.plot([], [],color='grey',linestyle='dashed',label='predicted values') \n",
    "# Static line that will appear on the graph\n",
    "line2, = ax.plot(df['prediction_date'],df['Val'],'*r',label= 'Actual Values')\n",
    "\n",
    "\n",
    "# initialization function \n",
    "def init(): \n",
    "\t# creating an empty plot/frame \n",
    "\tline.set_data([], []) \n",
    "\treturn line, \n",
    "\n",
    "# lists to store x and y axis points \n",
    "xdata, ydata = [], [] \n",
    "\n",
    "# animation function \n",
    "def animate(i): \n",
    "\t# t is our iteration parameter\n",
    "\tt = i \n",
    "\t\n",
    "\t# x, y values to be plotted\n",
    "\tx = df['prediction_date'][t]\n",
    "\ty = df['Pred_Val'][t] \n",
    "\t# As t increases we will append the list of x,y values \n",
    "\txdata.append(x) \n",
    "\tydata.append(y) \n",
    "    #set the appended values into the empty line graph we created\n",
    "\tline.set_data(xdata, ydata) \n",
    "    # setting a title for the plot with the date the forecast ran\n",
    "\tplt.title('Simulated Graph Rundate: %s' %df['Forecast Date'][t],fontsize=18) \n",
    "\treturn line\n",
    "\t\n",
    "    \n",
    "#add legend\n",
    "plt.legend(fontsize=15)\n",
    "#gridline\n",
    "plt.grid()\n",
    "# Add x and y lables, and set their font size\n",
    "plt.xlabel(\"prediction date\", fontsize=20)\n",
    "plt.ylabel(\"values\", fontsize=20)\n",
    "# Set the font size of the number lables on the axes\n",
    "plt.xticks(fontsize=15)\n",
    "plt.yticks(fontsize=15)\n",
    "# Use the FuncAnimation from matplotlib\t \n",
    "anim = FuncAnimation(fig, animate, init_func=init, \n",
    "\t\t\t\t\t\t\tframes=df.shape[0], blit=False,interval=500) \n",
    "\n",
    "#save GIF\n",
    "os.chdir=(\"Your Path\")\n",
    "anim.save('my_animation.gif')"
   ]
  }
 ],
 "metadata": {
  "kernelspec": {
   "display_name": "Python 3",
   "language": "python",
   "name": "python3"
  },
  "language_info": {
   "codemirror_mode": {
    "name": "ipython",
    "version": 3
   },
   "file_extension": ".py",
   "mimetype": "text/x-python",
   "name": "python",
   "nbconvert_exporter": "python",
   "pygments_lexer": "ipython3",
   "version": "3.7.4"
  },
  "toc": {
   "base_numbering": 1,
   "nav_menu": {},
   "number_sections": false,
   "sideBar": true,
   "skip_h1_title": false,
   "title_cell": "Table of Contents",
   "title_sidebar": "Contents",
   "toc_cell": false,
   "toc_position": {
    "height": "calc(100% - 180px)",
    "left": "10px",
    "top": "150px",
    "width": "165px"
   },
   "toc_section_display": true,
   "toc_window_display": false
  }
 },
 "nbformat": 4,
 "nbformat_minor": 2
}

